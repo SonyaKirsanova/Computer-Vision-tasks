{
  "nbformat": 4,
  "nbformat_minor": 0,
  "metadata": {
    "colab": {
      "name": "Базовая работа в Torch ",
      "provenance": [],
      "authorship_tag": "ABX9TyNnpREznbENIgsnjOHzc5B5",
      "include_colab_link": true
    },
    "kernelspec": {
      "name": "python3",
      "display_name": "Python 3"
    },
    "accelerator": "GPU"
  },
  "cells": [
    {
      "cell_type": "markdown",
      "metadata": {
        "id": "view-in-github",
        "colab_type": "text"
      },
      "source": [
        "<a href=\"https://colab.research.google.com/github/SonyaKirsanova/Computer-Vision-tasks/blob/main/%D0%91%D0%B0%D0%B7%D0%BE%D0%B2%D0%B0%D1%8F_%D1%80%D0%B0%D0%B1%D0%BE%D1%82%D0%B0_%D0%B2_Torch.ipynb\" target=\"_parent\"><img src=\"https://colab.research.google.com/assets/colab-badge.svg\" alt=\"Open In Colab\"/></a>"
      ]
    },
    {
      "cell_type": "code",
      "metadata": {
        "id": "HZ2HyIo-4REh",
        "colab": {
          "base_uri": "https://localhost:8080/"
        },
        "outputId": "a1c89d7b-f428-429d-85a3-401c22410e17"
      },
      "source": [
        "#возвращает сумму (x.sum()) элементов тензора X, строго превышающих значение limit, которое является входным значением\n",
        "import torch\n",
        "X = torch.tensor([[1, 2, 3], [4, 5, 6], [7, 8, 9]])\n",
        "limit = int(input())\n",
        "larger_than_limit_sum = X[X > limit].sum()\n",
        "print(larger_than_limit_sum)"
      ],
      "execution_count": 1,
      "outputs": [
        {
          "output_type": "stream",
          "text": [
            "3\n",
            "tensor(39)\n"
          ],
          "name": "stdout"
        }
      ]
    },
    {
      "cell_type": "markdown",
      "metadata": {
        "id": "pjvJe4LQJxFE"
      },
      "source": [
        "![2021-04-01_18-55-34.png](data:image/png;base64,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)"
      ]
    },
    {
      "cell_type": "code",
      "metadata": {
        "id": "j-BZat__JE__"
      },
      "source": [
        "# расчет градиента для функции выше\n",
        "import torch\n",
        "w = torch.tensor(\n",
        "    [[5., 10.],\n",
        "     [1., 2.]], requires_grad=True)\n",
        "device = torch.device('cuda:0' \n",
        "                      if torch.cuda.is_available() \n",
        "                      else 'cpu')\n",
        "w = w.to(device)\n",
        "function = torch.log(torch.log(w + 7)).prod()\n",
        "function.backward()"
      ],
      "execution_count": 2,
      "outputs": []
    },
    {
      "cell_type": "code",
      "metadata": {
        "id": "nsqbo0yQJ_lJ"
      },
      "source": [
        "# та же функция, начальное приближени: [[5,10],[1,2]] , шаг градиентного спуска alpha=0.001. Найти приближение при t = 500\n",
        "import torch\n",
        "w = torch.tensor([[5., 10.], [1., 2.]], requires_grad=True)\n",
        "alpha = 0.001\n",
        "for _ in range(500):\n",
        "    # it's critical to calculate function inside the loop:\n",
        "    function = (w + 7).log().log().prod()\n",
        "    function.backward()\n",
        "    w.data -= alpha * w.grad\n",
        "    w.grad.zero_()"
      ],
      "execution_count": 3,
      "outputs": []
    },
    {
      "cell_type": "code",
      "metadata": {
        "id": "uTVr8LMLK2qz"
      },
      "source": [
        "# тоже самое, только с использованием torch.optim.SGD\n",
        "\n",
        "import torch\n",
        "w = torch.tensor([[5., 10.], [1., 2.]], requires_grad=True)\n",
        "alpha = 0.001\n",
        "optimizer = torch.optim.SGD([w], lr=0.001)\n",
        "for _ in range(500):\n",
        "    # it's critical to calculate function inside the loop:\n",
        "    function = (w + 7).log().log().prod()\n",
        "    function.backward()\n",
        "    optimizer.step()\n",
        "    optimizer.zero_grad()"
      ],
      "execution_count": null,
      "outputs": []
    }
  ]
}